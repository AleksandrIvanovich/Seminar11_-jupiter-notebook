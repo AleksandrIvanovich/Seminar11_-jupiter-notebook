{
 "cells": [
  {
   "cell_type": "markdown",
   "id": "de014bec",
   "metadata": {},
   "source": [
    "Дана функция: f(x)=(sin(x)/2 + cos(x)/2)^2 * sin(x)\n",
    "\n",
    "1.Определить корни"
   ]
  },
  {
   "cell_type": "code",
   "execution_count": 6,
   "id": "626a28f2",
   "metadata": {},
   "outputs": [],
   "source": [
    "from sympy import Symbol\n",
    "from sympy import sqrt, pi, solveset, solve, diff, plot, is_increasing, Interval,oo,S \n",
    "from sympy import sin, cos, simplify, periodicity, evalf, minimum, maximum"
   ]
  },
  {
   "cell_type": "code",
   "execution_count": 7,
   "id": "6927b389",
   "metadata": {},
   "outputs": [
    {
     "data": {
      "text/latex": [
       "$\\displaystyle \\frac{\\sin{\\left(x \\right)} \\sin^{2}{\\left(x + \\frac{\\pi}{4} \\right)}}{2}$"
      ],
      "text/plain": [
       "sin(x)*sin(x + pi/4)**2/2"
      ]
     },
     "execution_count": 7,
     "metadata": {},
     "output_type": "execute_result"
    }
   ],
   "source": [
    "x = Symbol('x', real = True)\n",
    "y = simplify((sin(x)/2 + cos(x)/2)**2 * sin(x))\n",
    "y"
   ]
  },
  {
   "cell_type": "code",
   "execution_count": 11,
   "id": "76cc4a85",
   "metadata": {},
   "outputs": [
    {
     "data": {
      "text/plain": [
       "[0, -pi/4, 3*pi/4, pi]"
      ]
     },
     "execution_count": 11,
     "metadata": {},
     "output_type": "execute_result"
    }
   ],
   "source": [
    "solve(y, x)"
   ]
  },
  {
   "cell_type": "markdown",
   "id": "722de429",
   "metadata": {},
   "source": [
    "2.Найти интервалы, на которых функция возрастает."
   ]
  },
  {
   "cell_type": "code",
   "execution_count": 12,
   "id": "79de396f",
   "metadata": {},
   "outputs": [
    {
     "data": {
      "text/latex": [
       "$\\displaystyle \\sin{\\left(x \\right)} \\sin{\\left(x + \\frac{\\pi}{4} \\right)} \\cos{\\left(x + \\frac{\\pi}{4} \\right)} + \\frac{\\sin^{2}{\\left(x + \\frac{\\pi}{4} \\right)} \\cos{\\left(x \\right)}}{2}$"
      ],
      "text/plain": [
       "sin(x)*sin(x + pi/4)*cos(x + pi/4) + sin(x + pi/4)**2*cos(x)/2"
      ]
     },
     "execution_count": 12,
     "metadata": {},
     "output_type": "execute_result"
    }
   ],
   "source": [
    "derivate = diff(y)\n",
    "derivate"
   ]
  },
  {
   "cell_type": "code",
   "execution_count": 15,
   "id": "6bd3b4ff",
   "metadata": {},
   "outputs": [
    {
     "data": {
      "text/latex": [
       "$\\displaystyle 2 \\pi$"
      ],
      "text/plain": [
       "2*pi"
      ]
     },
     "execution_count": 15,
     "metadata": {},
     "output_type": "execute_result"
    }
   ],
   "source": [
    "periodicity(y,x)"
   ]
  },
  {
   "cell_type": "code",
   "execution_count": 50,
   "id": "5de97cbb",
   "metadata": {},
   "outputs": [
    {
     "data": {
      "text/latex": [
       "$\\displaystyle 0 \\leq x \\wedge x \\leq 2 \\pi \\wedge \\left(x = 0 \\vee x = \\frac{3 \\pi}{4} \\vee x = \\pi \\vee x = \\frac{7 \\pi}{4}\\right)$"
      ],
      "text/plain": [
       "(0 <= x) & (x <= 2*pi) & (Eq(x, 0) | Eq(x, pi) | Eq(x, 3*pi/4) | Eq(x, 7*pi/4))"
      ]
     },
     "execution_count": 50,
     "metadata": {},
     "output_type": "execute_result"
    }
   ],
   "source": [
    "solve([x <= 0, x <= periodicity(y, x), y], x)"
   ]
  },
  {
   "cell_type": "markdown",
   "id": "71d211bc",
   "metadata": {},
   "source": [
    "2.Найти интервалы, на которых функция убывает."
   ]
  },
  {
   "cell_type": "code",
   "execution_count": 51,
   "id": "52fe58eb",
   "metadata": {},
   "outputs": [
    {
     "data": {
      "text/latex": [
       "$\\displaystyle 0 \\leq x \\wedge x \\leq 2 \\pi \\wedge \\left(x = 0 \\vee x = \\frac{3 \\pi}{4} \\vee x = \\pi \\vee x = \\frac{7 \\pi}{4}\\right)$"
      ],
      "text/plain": [
       "(0 <= x) & (x <= 2*pi) & (Eq(x, 0) | Eq(x, pi) | Eq(x, 3*pi/4) | Eq(x, 7*pi/4))"
      ]
     },
     "execution_count": 51,
     "metadata": {},
     "output_type": "execute_result"
    }
   ],
   "source": [
    "solve([x >= 0, x <= periodicity(y, x), y], x)"
   ]
  },
  {
   "cell_type": "markdown",
   "id": "0b2b8757",
   "metadata": {},
   "source": [
    "4.Построить график"
   ]
  },
  {
   "cell_type": "code",
   "execution_count": 23,
   "id": "4dbac360",
   "metadata": {},
   "outputs": [
    {
     "data": {
      "image/png": "[encoded data removed]",
      "text/plain": [
       "<Figure size 640x480 with 1 Axes>"
      ]
     },
     "metadata": {},
     "output_type": "display_data"
    }
   ],
   "source": [
    "grafic = plot(y, (x, 0, 2*pi))"
   ]
  },
  {
   "cell_type": "markdown",
   "id": "0ae45e69",
   "metadata": {},
   "source": [
    "5.Определить вершину"
   ]
  },
  {
   "cell_type": "code",
   "execution_count": 55,
   "id": "f855f759",
   "metadata": {},
   "outputs": [
    {
     "name": "stdout",
     "output_type": "stream",
     "text": [
      "max_y = 0.404\n",
      "min_y = -0.404\n"
     ]
    }
   ],
   "source": [
    "max_y = maximum(y,x, Interval(0, 2*pi)).evalf()\n",
    "min_y = minimum(y,x, Interval(0, 2*pi)).evalf()\n",
    "\n",
    "print('max_y =',round(max_y, 3))\n",
    "print('min_y =',round(min_y, 3)) \n",
    "\n",
    "      "
   ]
  },
  {
   "cell_type": "markdown",
   "id": "04a26262",
   "metadata": {},
   "source": [
    "6.Определить промежутки, на которых f(x)>0"
   ]
  },
  {
   "cell_type": "code",
   "execution_count": 39,
   "id": "c3ef8c08",
   "metadata": {},
   "outputs": [
    {
     "data": {
      "text/latex": [
       "$\\displaystyle \\left(0, \\frac{3 \\pi}{4}\\right) \\cup \\left(\\frac{3 \\pi}{4}, \\pi\\right)$"
      ],
      "text/plain": [
       "Union(Interval.open(0, 3*pi/4), Interval.open(3*pi/4, pi))"
      ]
     },
     "execution_count": 39,
     "metadata": {},
     "output_type": "execute_result"
    }
   ],
   "source": [
    "solveset(y > 0, x, S.Reals)"
   ]
  },
  {
   "cell_type": "markdown",
   "id": "88ffea9b",
   "metadata": {},
   "source": [
    "7.Определить промежутки, на которых f(x)<0"
   ]
  },
  {
   "cell_type": "code",
   "execution_count": 33,
   "id": "b1de5bd5",
   "metadata": {},
   "outputs": [
    {
     "data": {
      "text/latex": [
       "$\\displaystyle \\left(\\pi, \\frac{7 \\pi}{4}\\right) \\cup \\left(\\frac{7 \\pi}{4}, 2 \\pi\\right)$"
      ],
      "text/plain": [
       "Union(Interval.open(pi, 7*pi/4), Interval.open(7*pi/4, 2*pi))"
      ]
     },
     "execution_count": 33,
     "metadata": {},
     "output_type": "execute_result"
    }
   ],
   "source": [
    "solveset(y < 0, x, S.Reals)"
   ]
  }
 ],
 "metadata": {
  "kernelspec": {
   "display_name": "Python 3 (ipykernel)",
   "language": "python",
   "name": "python3"
  },
  "language_info": {
   "codemirror_mode": {
    "name": "ipython",
    "version": 3
   },
   "file_extension": ".py",
   "mimetype": "text/x-python",
   "name": "python",
   "nbconvert_exporter": "python",
   "pygments_lexer": "ipython3",
   "version": "3.9.13"
  }
 },
 "nbformat": 4,
 "nbformat_minor": 5
}
